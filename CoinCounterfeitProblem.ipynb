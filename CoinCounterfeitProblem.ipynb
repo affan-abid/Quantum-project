{
 "cells": [
  {
   "cell_type": "markdown",
   "metadata": {},
   "source": [
    "## Quantum Counterfeit Coin Problem"
   ]
  },
  {
   "cell_type": "markdown",
   "metadata": {},
   "source": [
    "## Problem Description\n",
    "\n",
    "The Counterfeit Coin Problem is a classical puzzle. It has a long history of challenging one’s reasoning power and ingenuity. The problem goes like this: A man has 8 nickels among which there may be a counterfeit coin, which can only be told apart by its weight being different from the others. How can one tell in not more than three weighing whether there is a counterfeit nickel, if so which one it is and whether it is heavier or lighter than a genuine nickel? The balance we are allowed to use only gives the information whether two masses have the same weight or if not which one is heavier of lighter.\n",
    "\n",
    "\n",
    "### Preparing the environment\n",
    "First, we prepare the environment. "
   ]
  },
  {
   "cell_type": "code",
   "execution_count": 12,
   "metadata": {
    "ExecuteTime": {
     "end_time": "2018-09-26T16:51:58.931368Z",
     "start_time": "2018-09-26T16:51:57.520703Z"
    }
   },
   "outputs": [],
   "source": [
    "# importing all the helpful libraries \n",
    "import matplotlib.pyplot as plt\n",
    "%matplotlib inline\n",
    "import numpy as np\n",
    "from math import pi, cos, acos, sqrt\n",
    "from qiskit import Aer, execute\n",
    "from qiskit import QuantumCircuit, ClassicalRegister, QuantumRegister\n",
    "from qiskit.tools.visualization import plot_histogram"
   ]
  },
  {
   "cell_type": "markdown",
   "metadata": {},
   "source": [
    "### Setting up the number of coins\n",
    "\n",
    "Next, we set the number of coins. This determines the quantum superpositions used by the algorithm."
   ]
  },
  {
   "cell_type": "code",
   "execution_count": 2,
   "metadata": {
    "ExecuteTime": {
     "end_time": "2018-09-26T16:51:58.942774Z",
     "start_time": "2018-09-26T16:51:58.939618Z"
    }
   },
   "outputs": [],
   "source": [
    "M = 16                   # Maximum number of qubits available\n",
    "totalCoins = 8        # This number should be up to M-1\n",
    "\n",
    "if totalCoins < 4 or totalCoins >= M:\n",
    "    raise Exception(\"Please use totalCoins between 4 and \", M-1)"
   ]
  },
  {
   "cell_type": "markdown",
   "metadata": {},
   "source": [
    "### Setting up the index of the false coin\n",
    "\n",
    "Next, we set the index of the counterfeit coin. This determines the quantum beam balance."
   ]
  },
  {
   "cell_type": "code",
   "execution_count": 3,
   "metadata": {},
   "outputs": [],
   "source": [
    "counterfeitCoinIndex = 5     # This should be 0, 1, ..., totalCoins - 1, where we use Python indexing \n",
    "\n",
    "if counterfeitCoinIndex < 0 or counterfeitCoinIndex >= totalCoins:\n",
    "    raise Exception(\"counterfeitCoinIndex must be between 0 and \", totalCoins-1)"
   ]
  },
  {
   "cell_type": "markdown",
   "metadata": {},
   "source": [
    "# Querying the quantum beam balance\n",
    "\n",
    "As in a classical algorithm to find the counterfeit coin, we will use the balance by placing the same number of coins on the left and right pans of the beam. The difference is that in a quantum algorithm, we can query the beam balance in superposition. To query the quantum beam balance, we use a binary query string to encode coins placed on the pans; namely, the binary string `01101010` means to place coins whose indices are 1, 2, 4, and 6 on the pans, while the binary string `01110111` means to place all coins but those with indices 0 and 4 on the pans. Notice that we do not care how the selected coins are placed on the left and right pans, because their results are the same: it is balanced when no false coin is included, and tilted otherwise. \n",
    "\n",
    "In our example, because the number of coins is $8$ and the index of false coin is $5$, the query `01101010` will result in balanced (or, $0$), while the query `01110111` will result in tilted (or, $1$). Using two quantum registers to query the quantum balance, where the first register is for the query string and the second register for the result of the quantum balance, we can write the query to the quantum balance (omitting the normalization of the amplitudes): \n",
    "\n",
    "\\begin{eqnarray}\n",
    "|01101010\\rangle\\Big( |0\\rangle - |1\\rangle \\Big) &\\xrightarrow{\\mbox{Quantum Beam Balance}}& |01101010\\rangle\\Big( |0\\oplus 0\\rangle - |1 \\oplus 0\\rangle \\Big) = |01101010\\rangle\\Big( |0\\rangle - |1\\rangle \\Big)\\\\\n",
    "|01110111\\rangle\\Big( |0\\rangle - |1\\rangle \\Big) &\\xrightarrow{\\mbox{Quantum Beam Balance}}& |01110111\\rangle\\Big( |0 \\oplus 1\\rangle - |1 \\oplus 1\\rangle \\Big) = (-1) |01110111\\rangle\\Big( |0 \\rangle - |1 \\rangle \\Big)\n",
    "\\end{eqnarray}\n",
    "\n",
    "Notice that in the above equation, the phase is flipped if and only if the binary query string is $1$ at the index of the false coin. Let $x \\in \\left\\{0,1\\right\\}^N$ be the $N$-bit query string (that contains even number of $1$s), and let $e_k \\in \\left\\{0,1\\right\\}^N$ be the binary string which is $1$ at the index of the false coin and $0$ otherwise. Clearly, \n",
    "\n",
    "$$\n",
    "|x\\rangle\\Big(|0\\rangle - |1\\rangle \\Big) \\xrightarrow{\\mbox{Quantum Beam Balance}} \\left(-1\\right) ^{x\\cdot e_k} |x\\rangle\\Big(|0\\rangle - |1\\rangle \\Big), \n",
    "$$\n",
    "where $x\\cdot e_k$ denotes the inner product of $x$ and $e_k$. \n",
    "\n",
    "Here, we will prepare the superposition of all binary query strings with even number of $1$s. Namely, we want a circuit that produces the following transformation:\n",
    "\n",
    "$$\n",
    "|0\\rangle \\rightarrow \\frac{1}{2^{(N-1)/2}}\\sum_{x\\in \\left\\{0,1\\right\\}^N~\\mbox{and}~|x|\\equiv 0 \\mod 2} |x\\rangle,\n",
    "$$\n",
    "\n",
    "where $|x|$ denotes the Hamming weight of $x$.\n",
    "\n",
    "To obtain such superposition of states of even number of $1$s, we can perform Hadamard transformation on $|0\\rangle$ to obtain superposition of $\\sum_{x\\in\\left\\{0,1\\right\\}^N} |x\\rangle$, and check if the Hamming weight of $x$ is even. It can be shown that the Hamming weight of $x$ is even if and only if $x_1 \\oplus x_2 \\oplus \\ldots \\oplus x_N = 0$. Thus, we can transform:\n",
    "\n",
    "\\begin{equation}\n",
    "|0\\rangle|0\\rangle \\xrightarrow{H^{\\oplus N}} \\frac{1}{2^{N/2}}\\sum_x |x\\rangle |0\\rangle \\xrightarrow{\\mbox{XOR}(x)} \\frac{1}{2^{N/2}}\\sum_x |x\\rangle |0\\oplus x_1 \\oplus x_2 \\oplus \\ldots \\oplus x_N\\rangle \n",
    "\\end{equation}\n",
    "\n",
    "The right-hand side of the equation can be divided based on the result of the $\\mbox{XOR}(x) = x_1 \\oplus \\ldots \\oplus x_N$, namely, \n",
    "\n",
    "$$\n",
    "\\frac{1}{2^{(N-1)/2}}\\sum_{x\\in \\left\\{0,1\\right\\}^N~\\mbox{and}~|x|\\equiv 0 \\mod 2} |x\\rangle|0\\rangle + \\frac{1}{2^{(N-1)/2}}\\sum_{x\\in \\left\\{0,1\\right\\}^N~\\mbox{and}~|x|\\equiv 1 \\mod 2} |x\\rangle|1\\rangle.\n",
    "$$\n",
    "\n",
    "Thus, if we measure the second register and observe $|0\\rangle$, the first register is the superposition of all binary query strings we want. If we fail (observe $|1\\rangle$), we repeat the above procedure until we observe $|0\\rangle$. Each repetition is guaranteed to succeed with probability exactly half. Hence, after several repetitions we should be able to obtain the desired superposition state. "
   ]
  },
  {
   "cell_type": "code",
   "execution_count": 23,
   "metadata": {},
   "outputs": [],
   "source": [
    "# Creating registers\n",
    "# totalCoins qubits for the binary query string and 1 qubit for working and recording the result of quantum balance\n",
    "qr = QuantumRegister(totalCoins+1)\n",
    "# for recording the measurement on qr\n",
    "cr = ClassicalRegister(totalCoins+1)\n",
    "\n",
    "circuitName = \"Counterfeit Coin Problem\"\n",
    "counterfeitCoinCircuit = QuantumCircuit(qr, cr)\n",
    "N = totalCoins\n",
    "# Create uniform superposition of all strings of length N\n",
    "for i in range(N):\n",
    "    counterfeitCoinCircuit.h(qr[i])\n",
    "\n",
    "# Perform XOR(x) by applying CNOT gates sequentially from qr[0] to qr[N-1] and storing the result to qr[N]\n",
    "for i in range(N):\n",
    "    counterfeitCoinCircuit.cx(qr[i], qr[N])\n",
    "\n",
    "# Measure qr[N] and store the result to cr[N]. We continue if cr[N] is zero, or repeat otherwise\n",
    "counterfeitCoinCircuit.measure(qr[N], cr[N])\n",
    "\n",
    "# we proceed to query the quantum beam balance if the value of cr[0]...cr[N] is all zero\n",
    "# by preparing the Hadamard state of |1>, i.e., |0> - |1> at qr[N]\n",
    "counterfeitCoinCircuit.x(qr[N]).c_if(cr, 0)\n",
    "counterfeitCoinCircuit.h(qr[N]).c_if(cr, 0)\n",
    "\n",
    "# we rewind the computation when cr[N] is not zero\n",
    "for i in range(N):\n",
    "    counterfeitCoinCircuit.h(qr[i]).c_if(cr, 2**N)\n"
   ]
  },
  {
   "cell_type": "markdown",
   "metadata": {},
   "source": [
    "### Constructing the quantum beam balance\n",
    "\n",
    "The quantum beam balance returns $1$ when the binary query string contains the position of the false coin and $0$ otherwise, provided that the Hamming weight of the binary query string is even. Notice that previously, we constructed the superposition of all binary query strings whose Hamming weights are even. Let $k$ be the position of the false coin, then with regards to the binary query string $|x_1,x_2,\\ldots,x_N\\rangle|0\\rangle$, the quantum beam balance simply returns $|x_1,x_2,\\ldots,x_N\\rangle|0\\oplus x_k\\rangle$, that can be realized by a CNOT gate with $x_k$ as control and the second register as target. Namely, the quantum beam balance realizes\n",
    "\n",
    "$$\n",
    "|x_1,x_2,\\ldots,x_N\\rangle\\Big(|0\\rangle - |1\\rangle\\Big) \\xrightarrow{\\mbox{Quantum Beam Balance}} |x_1,x_2,\\ldots,x_N\\rangle\\Big(|0\\oplus x_k\\rangle - |1 \\oplus x_k\\rangle\\Big) = \\left(-1\\right)^{x\\cdot e_k} |x_1,x_2,\\ldots,x_N\\rangle\\Big(|0\\rangle - |1\\rangle\\Big)\n",
    "$$\n",
    "\n",
    "Below we apply the quantum beam balance on the desired superposition state. "
   ]
  },
  {
   "cell_type": "code",
   "execution_count": 24,
   "metadata": {
    "ExecuteTime": {
     "end_time": "2018-09-26T16:51:58.956692Z",
     "start_time": "2018-09-26T16:51:58.951205Z"
    }
   },
   "outputs": [
    {
     "data": {
      "text/plain": [
       "<qiskit.circuit.instructionset.InstructionSet at 0x27ae03efe50>"
      ]
     },
     "execution_count": 24,
     "metadata": {},
     "output_type": "execute_result"
    }
   ],
   "source": [
    "k = counterfeitCoinIndex\n",
    "# Apply the quantum beam balance on the desired superposition state (marked by cr equal to zero)\n",
    "counterfeitCoinCircuit.cx(qr[k], qr[N]).c_if(cr, 0)"
   ]
  },
  {
   "cell_type": "markdown",
   "metadata": {},
   "source": [
    "### References\n",
    "- https://arxiv.org/pdf/quant-ph/9705041.pdf\n",
    "- https://arxiv.org/pdf/1009.0416.pdf"
   ]
  },
  {
   "cell_type": "code",
   "execution_count": null,
   "metadata": {},
   "outputs": [],
   "source": []
  }
 ],
 "metadata": {
  "anaconda-cloud": {},
  "kernelspec": {
   "display_name": "Python 3 (ipykernel)",
   "language": "python",
   "name": "python3"
  },
  "language_info": {
   "codemirror_mode": {
    "name": "ipython",
    "version": 3
   },
   "file_extension": ".py",
   "mimetype": "text/x-python",
   "name": "python",
   "nbconvert_exporter": "python",
   "pygments_lexer": "ipython3",
   "version": "3.8.11"
  }
 },
 "nbformat": 4,
 "nbformat_minor": 1
}
